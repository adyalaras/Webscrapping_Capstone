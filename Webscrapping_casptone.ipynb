{
 "cells": [
  {
   "cell_type": "markdown",
   "id": "northern-albert",
   "metadata": {},
   "source": [
    "# WEBSCRAPING DATA EXCHANGE RATES IDR TO USD"
   ]
  },
  {
   "cell_type": "markdown",
   "id": "objective-economics",
   "metadata": {},
   "source": [
    "### Dalam menganalisis suatu masalah, data dapat diambil dari berbagai sumber. Salah satu sumber yang dapat digunakan yaitu melalui website atau situs lembaga terpercaya. Data melalui situs dapat diambil melalui proses Web Scrapping. Web Scraping adalah proses pengambilan data atau esktraksi dari sebuah website dan disimpan dalam format tertentu. Berikut adalah proses pengambilan data pada website www.exchange-rates.org untuk mendapatkan data kurs Rupiah terhadap US Dollar di beberapa waktu."
   ]
  },
  {
   "cell_type": "markdown",
   "id": "natural-dance",
   "metadata": {},
   "source": [
    "Proses diawali dengan melakukan importing data website dengan menggunakan BeautifulSoup"
   ]
  },
  {
   "cell_type": "code",
   "execution_count": 1,
   "id": "digital-terrorism",
   "metadata": {},
   "outputs": [],
   "source": [
    "import requests\n",
    "\n",
    "url_get = requests.get('https://www.exchange-rates.org/history/IDR/USD/T')"
   ]
  },
  {
   "cell_type": "code",
   "execution_count": 93,
   "id": "extreme-action",
   "metadata": {},
   "outputs": [
    {
     "data": {
      "text/plain": [
       "b'\\n<!DOCTYPE html>\\r\\n<!--[if lt IE 9]>\\r\\n    <html class=\"no-js ie8 oldie\" lang=\\'en\\' xml:lang=\\'en\\'>\\r\\n<![endif]-->\\r\\n<!--[if gt IE 8]><!--> <html class=\"no-js\" lang=\\'en\\' xml:lang=\\'en\\'> <!--<![endif]-->\\r\\n<head><title>Indonesian Rupiah Exchange Rate - US Dollar - Historical Exchange Rates</title>\\n<meta http-equiv=\"X-UA-Compatible\" content=\"IE=edge\">\\n<meta content=\"C#\" name=\"CODE_LANGUAGE\" />\\n<meta content=\"JavaScript\" name=\"vs_defaultClientScript\" />\\n<meta content=\"http://schemas.microsoft.com/intellisense/ie5\" name=\"vs_targetSchema\" />\\n<meta name=\"viewport\" content=\"width=device-width, initial-scale=1, maximum-scale=5\">\\n<meta http-equiv=\"Content-Type\" content=\"text/html; charset=utf-8\" />\\n\\n<meta name=\"mapping\" content=\"AP\" />\\n<base href=\"https://www.exchange-rates.org/\" />\\n<link rel=\"dns-prefetch\" href=\"https://ajax.googleapis.com/\" />\\r\\n<link rel=\"dns-prefetch\" href=\"https://www.google-analytics.com/\" />\\r\\n<link rel=\"preload\" href=\"https://dol8qrceshfrq.cloudfront.net/cache/2020-03-18-01-05-5'"
      ]
     },
     "execution_count": 93,
     "metadata": {},
     "output_type": "execute_result"
    }
   ],
   "source": [
    "url_get.content[1:1000]"
   ]
  },
  {
   "cell_type": "code",
   "execution_count": 3,
   "id": "aggressive-driver",
   "metadata": {},
   "outputs": [
    {
     "name": "stdout",
     "output_type": "stream",
     "text": [
      "<class 'bs4.BeautifulSoup'>\n"
     ]
    }
   ],
   "source": [
    "from bs4 import BeautifulSoup \n",
    "\n",
    "soup = BeautifulSoup(url_get.content,\"html.parser\")\n",
    "print(type(soup))"
   ]
  },
  {
   "cell_type": "code",
   "execution_count": 4,
   "id": "virgin-pacific",
   "metadata": {},
   "outputs": [
    {
     "name": "stdout",
     "output_type": "stream",
     "text": [
      "<!DOCTYPE html>\n",
      "<!--[if lt IE 9]>\r\n",
      "    <html class=\"no-js ie8 oldie\" lang='en' xml:lang='en'>\r\n",
      "<![endif]-->\n",
      "<!--[if gt IE 8]><!-->\n",
      "<html class=\"no-js\" lang=\"en\" xml:lang=\"en\">\n",
      " <!--<![endif]-->\n",
      " <head>\n",
      "  <title>\n",
      "   Indonesian Rupiah Exchange Rate - US Dollar - Historical Exchange Rates\n",
      "  </title>\n",
      "  <meta content=\"IE=edge\" http-equiv=\"X-UA-Compatible\"/>\n",
      "  <meta content=\"C#\" name=\"CODE_LANGUAGE\">\n",
      "   <meta content=\"JavaScript\" name=\"vs_defaultClientScript\"/>\n",
      "   <meta content=\"http://schemas.microsoft.com/intellisense/ie5\" name=\"vs_targetSchema\"/>\n",
      "   <meta content=\"width=device-width, initial-scale=1, maximum-scale=5\" name=\"viewport\"/>\n",
      "   <meta content=\"text/html; charset=utf-8\" http-equiv=\"Content-Type\">\n",
      "    <meta content=\"AP\" name=\"mapping\"/>\n",
      "    <base href=\"https://www.exchange-rates.org/\"/>\n",
      "    <link href=\"https://ajax.googleapis.com/\" rel=\"dns-prefetch\"/>\n",
      "    <link href=\"https://www.google-analytics.com/\" rel=\"dns-prefetch\"/>\n",
      "    <link as=\"image\" href=\"https://dol8qrceshfrq.cloudfront.net/cache/2020-03-18-01-05-58/img/bgr-patter\n"
     ]
    }
   ],
   "source": [
    "print(soup.prettify()[:1045])"
   ]
  },
  {
   "cell_type": "code",
   "execution_count": null,
   "id": "wound-border",
   "metadata": {},
   "outputs": [],
   "source": [
    "Data yang diambil disesuaikan dengan kebutuhan analisis, sehingga kita perlu memilih variabel-variabel dalam data tersebut."
   ]
  },
  {
   "cell_type": "code",
   "execution_count": 5,
   "id": "coupled-reliance",
   "metadata": {},
   "outputs": [
    {
     "name": "stdout",
     "output_type": "stream",
     "text": [
      "div class=\"table-responsive\">\n",
      " <table class=\"table table-striped table-hover table-hover-solid-row table-simple history-data\">\n",
      "  <tbody>\n",
      "   <tr>\n",
      "    <td>\n",
      "     3/4/2021\n",
      "    </td>\n",
      "    <td>\n",
      "     Thursday\n",
      "    </td>\n",
      "    <td>\n",
      "     <a href=\"/Rate/USD/IDR/3-4-2021\">\n",
      "      14,261.85426\n",
      "     </a>\n",
      "     IDR\n",
      "    </td>\n",
      "    <td class=\"text-narrow-screen-hidden\">\n",
      "     <a href=\"/Rate/USD/IDR/3-4-2021\">\n",
      "      USD IDR rate for 3/4/2021\n",
      "     </a>\n",
      "    </td>\n",
      "   </tr>\n",
      "   <tr>\n",
      "    <td>\n",
      "     3/3/2021\n",
      "    </td>\n",
      "    <td>\n"
     ]
    }
   ],
   "source": [
    "table = soup.find('div', attrs={'class':'table-responsive'})\n",
    "print(table.prettify()[1:500])"
   ]
  },
  {
   "cell_type": "code",
   "execution_count": 24,
   "id": "unknown-proposal",
   "metadata": {},
   "outputs": [
    {
     "data": {
      "text/plain": [
       "[<tr><td>3/4/2021</td><td>Thursday</td><td><a href=\"/Rate/USD/IDR/3-4-2021\">14,261.85426</a> IDR</td><td class=\"text-narrow-screen-hidden\"><a href=\"/Rate/USD/IDR/3-4-2021\">USD IDR rate for 3/4/2021</a></td></tr>,\n",
       " <tr><td>3/3/2021</td><td>Wednesday</td><td><a href=\"/Rate/USD/IDR/3-3-2021\">14,257.29443</a> IDR</td><td class=\"text-narrow-screen-hidden\"><a href=\"/Rate/USD/IDR/3-3-2021\">USD IDR rate for 3/3/2021</a></td></tr>]"
      ]
     },
     "execution_count": 24,
     "metadata": {},
     "output_type": "execute_result"
    }
   ],
   "source": [
    "tr = table.find_all('tr')\n",
    "tr[:2] # just call 2 founded tr"
   ]
  },
  {
   "cell_type": "markdown",
   "id": "headed-dispatch",
   "metadata": {},
   "source": []
  },
  {
   "cell_type": "markdown",
   "id": "aggressive-aircraft",
   "metadata": {},
   "source": [
    "Setelah mendapatkan variabel yang dibutuhkan, diperlukan looping data untuk mengambil seluruh data dalam halaman dimaksud. Data yang akan diambil adalah data selama sepekan (7 hari)"
   ]
  },
  {
   "cell_type": "code",
   "execution_count": 213,
   "id": "southwest-venezuela",
   "metadata": {
    "scrolled": false
   },
   "outputs": [
    {
     "data": {
      "text/plain": [
       "[('3/1/2021', 'Monday', '14,248.60576 IDR'),\n",
       " ('2/26/2021', 'Friday', '14,300.27815 IDR'),\n",
       " ('2/25/2021', 'Thursday', '14,139.73096 IDR'),\n",
       " ('2/24/2021', 'Wednesday', '14,083.03673 IDR'),\n",
       " ('2/23/2021', 'Tuesday', '14,092.64503 IDR'),\n",
       " ('2/22/2021', 'Monday', '14,118.07274 IDR'),\n",
       " ('2/19/2021', 'Friday', '14,066.79375 IDR')]"
      ]
     },
     "execution_count": 213,
     "metadata": {},
     "output_type": "execute_result"
    }
   ],
   "source": [
    "temp = [] #initiating a tuple\n",
    "\n",
    "for i in range(3,10):\n",
    "    row = table.find_all('tr')[i]\n",
    "    \n",
    "    #get date\n",
    "    date = row.find_all('td')[0].text\n",
    "    date = date.strip() #for removing the excess whitespace\n",
    "    \n",
    "    #get day\n",
    "    day = row.find_all('td')[1].text\n",
    "    day = day.strip() #for removing the excess whitespace\n",
    "    \n",
    "    #get rate\n",
    "    rate = row.find_all('td')[2].text\n",
    "    rate = rate.strip() #for removing the excess whitespace\n",
    "\n",
    "    temp.append((date,day,rate)) \n",
    "    \n",
    "temp"
   ]
  },
  {
   "cell_type": "code",
   "execution_count": 214,
   "id": "chronic-score",
   "metadata": {},
   "outputs": [
    {
     "data": {
      "text/plain": [
       "[('2/19/2021', 'Friday', '14,066.79375 IDR'),\n",
       " ('2/22/2021', 'Monday', '14,118.07274 IDR'),\n",
       " ('2/23/2021', 'Tuesday', '14,092.64503 IDR'),\n",
       " ('2/24/2021', 'Wednesday', '14,083.03673 IDR'),\n",
       " ('2/25/2021', 'Thursday', '14,139.73096 IDR'),\n",
       " ('2/26/2021', 'Friday', '14,300.27815 IDR'),\n",
       " ('3/1/2021', 'Monday', '14,248.60576 IDR')]"
      ]
     },
     "execution_count": 214,
     "metadata": {},
     "output_type": "execute_result"
    }
   ],
   "source": [
    "temp = temp[::-1]\n",
    "temp"
   ]
  },
  {
   "cell_type": "markdown",
   "id": "iraqi-journalism",
   "metadata": {},
   "source": []
  },
  {
   "cell_type": "markdown",
   "id": "foreign-tours",
   "metadata": {},
   "source": [
    "Setelah melakukan data scrapping berdasarkan web tersebut, data dapat diolah melalui pandas. Sebelum data dapat dianalisis, diperlukan proses Data Wrangling dan Visualisasi agar data memberikan informasi yang tepat."
   ]
  },
  {
   "cell_type": "code",
   "execution_count": 216,
   "id": "molecular-undergraduate",
   "metadata": {
    "scrolled": true
   },
   "outputs": [
    {
     "data": {
      "text/html": [
       "<div>\n",
       "<style scoped>\n",
       "    .dataframe tbody tr th:only-of-type {\n",
       "        vertical-align: middle;\n",
       "    }\n",
       "\n",
       "    .dataframe tbody tr th {\n",
       "        vertical-align: top;\n",
       "    }\n",
       "\n",
       "    .dataframe thead th {\n",
       "        text-align: right;\n",
       "    }\n",
       "</style>\n",
       "<table border=\"1\" class=\"dataframe\">\n",
       "  <thead>\n",
       "    <tr style=\"text-align: right;\">\n",
       "      <th></th>\n",
       "      <th>date</th>\n",
       "      <th>day</th>\n",
       "      <th>rate</th>\n",
       "    </tr>\n",
       "  </thead>\n",
       "  <tbody>\n",
       "    <tr>\n",
       "      <th>0</th>\n",
       "      <td>2/19/2021</td>\n",
       "      <td>Friday</td>\n",
       "      <td>14,066.79375 IDR</td>\n",
       "    </tr>\n",
       "    <tr>\n",
       "      <th>1</th>\n",
       "      <td>2/22/2021</td>\n",
       "      <td>Monday</td>\n",
       "      <td>14,118.07274 IDR</td>\n",
       "    </tr>\n",
       "    <tr>\n",
       "      <th>2</th>\n",
       "      <td>2/23/2021</td>\n",
       "      <td>Tuesday</td>\n",
       "      <td>14,092.64503 IDR</td>\n",
       "    </tr>\n",
       "    <tr>\n",
       "      <th>3</th>\n",
       "      <td>2/24/2021</td>\n",
       "      <td>Wednesday</td>\n",
       "      <td>14,083.03673 IDR</td>\n",
       "    </tr>\n",
       "    <tr>\n",
       "      <th>4</th>\n",
       "      <td>2/25/2021</td>\n",
       "      <td>Thursday</td>\n",
       "      <td>14,139.73096 IDR</td>\n",
       "    </tr>\n",
       "    <tr>\n",
       "      <th>5</th>\n",
       "      <td>2/26/2021</td>\n",
       "      <td>Friday</td>\n",
       "      <td>14,300.27815 IDR</td>\n",
       "    </tr>\n",
       "    <tr>\n",
       "      <th>6</th>\n",
       "      <td>3/1/2021</td>\n",
       "      <td>Monday</td>\n",
       "      <td>14,248.60576 IDR</td>\n",
       "    </tr>\n",
       "  </tbody>\n",
       "</table>\n",
       "</div>"
      ],
      "text/plain": [
       "        date        day              rate\n",
       "0  2/19/2021     Friday  14,066.79375 IDR\n",
       "1  2/22/2021     Monday  14,118.07274 IDR\n",
       "2  2/23/2021    Tuesday  14,092.64503 IDR\n",
       "3  2/24/2021  Wednesday  14,083.03673 IDR\n",
       "4  2/25/2021   Thursday  14,139.73096 IDR\n",
       "5  2/26/2021     Friday  14,300.27815 IDR\n",
       "6   3/1/2021     Monday  14,248.60576 IDR"
      ]
     },
     "execution_count": 216,
     "metadata": {},
     "output_type": "execute_result"
    }
   ],
   "source": [
    "import pandas as pd\n",
    "\n",
    "exchange = pd.DataFrame(temp,columns = ('date','day', 'rate'))\n",
    "exchange"
   ]
  },
  {
   "cell_type": "code",
   "execution_count": 217,
   "id": "brief-rubber",
   "metadata": {},
   "outputs": [],
   "source": [
    "exchange['rate']=exchange['rate'].str.replace('IDR','')"
   ]
  },
  {
   "cell_type": "code",
   "execution_count": 218,
   "id": "wooden-bones",
   "metadata": {
    "scrolled": true
   },
   "outputs": [
    {
     "data": {
      "text/html": [
       "<div>\n",
       "<style scoped>\n",
       "    .dataframe tbody tr th:only-of-type {\n",
       "        vertical-align: middle;\n",
       "    }\n",
       "\n",
       "    .dataframe tbody tr th {\n",
       "        vertical-align: top;\n",
       "    }\n",
       "\n",
       "    .dataframe thead th {\n",
       "        text-align: right;\n",
       "    }\n",
       "</style>\n",
       "<table border=\"1\" class=\"dataframe\">\n",
       "  <thead>\n",
       "    <tr style=\"text-align: right;\">\n",
       "      <th></th>\n",
       "      <th>date</th>\n",
       "      <th>day</th>\n",
       "      <th>rate</th>\n",
       "    </tr>\n",
       "  </thead>\n",
       "  <tbody>\n",
       "    <tr>\n",
       "      <th>0</th>\n",
       "      <td>2/19/2021</td>\n",
       "      <td>Friday</td>\n",
       "      <td>14,066.79375</td>\n",
       "    </tr>\n",
       "    <tr>\n",
       "      <th>1</th>\n",
       "      <td>2/22/2021</td>\n",
       "      <td>Monday</td>\n",
       "      <td>14,118.07274</td>\n",
       "    </tr>\n",
       "    <tr>\n",
       "      <th>2</th>\n",
       "      <td>2/23/2021</td>\n",
       "      <td>Tuesday</td>\n",
       "      <td>14,092.64503</td>\n",
       "    </tr>\n",
       "    <tr>\n",
       "      <th>3</th>\n",
       "      <td>2/24/2021</td>\n",
       "      <td>Wednesday</td>\n",
       "      <td>14,083.03673</td>\n",
       "    </tr>\n",
       "    <tr>\n",
       "      <th>4</th>\n",
       "      <td>2/25/2021</td>\n",
       "      <td>Thursday</td>\n",
       "      <td>14,139.73096</td>\n",
       "    </tr>\n",
       "    <tr>\n",
       "      <th>5</th>\n",
       "      <td>2/26/2021</td>\n",
       "      <td>Friday</td>\n",
       "      <td>14,300.27815</td>\n",
       "    </tr>\n",
       "    <tr>\n",
       "      <th>6</th>\n",
       "      <td>3/1/2021</td>\n",
       "      <td>Monday</td>\n",
       "      <td>14,248.60576</td>\n",
       "    </tr>\n",
       "  </tbody>\n",
       "</table>\n",
       "</div>"
      ],
      "text/plain": [
       "        date        day           rate\n",
       "0  2/19/2021     Friday  14,066.79375 \n",
       "1  2/22/2021     Monday  14,118.07274 \n",
       "2  2/23/2021    Tuesday  14,092.64503 \n",
       "3  2/24/2021  Wednesday  14,083.03673 \n",
       "4  2/25/2021   Thursday  14,139.73096 \n",
       "5  2/26/2021     Friday  14,300.27815 \n",
       "6   3/1/2021     Monday  14,248.60576 "
      ]
     },
     "execution_count": 218,
     "metadata": {},
     "output_type": "execute_result"
    }
   ],
   "source": [
    "exchange"
   ]
  },
  {
   "cell_type": "code",
   "execution_count": 219,
   "id": "equipped-velvet",
   "metadata": {},
   "outputs": [],
   "source": [
    "exchange['rate'] = exchange['rate'].str.replace(',','')"
   ]
  },
  {
   "cell_type": "code",
   "execution_count": 220,
   "id": "mechanical-equity",
   "metadata": {},
   "outputs": [],
   "source": [
    "exchange['rate'] = exchange['rate'].astype('float64')"
   ]
  },
  {
   "cell_type": "code",
   "execution_count": 221,
   "id": "greater-motivation",
   "metadata": {
    "scrolled": false
   },
   "outputs": [
    {
     "data": {
      "text/plain": [
       "date     object\n",
       "day      object\n",
       "rate    float64\n",
       "dtype: object"
      ]
     },
     "execution_count": 221,
     "metadata": {},
     "output_type": "execute_result"
    }
   ],
   "source": [
    "exchange.dtypes"
   ]
  },
  {
   "cell_type": "code",
   "execution_count": 222,
   "id": "painful-dressing",
   "metadata": {
    "scrolled": false
   },
   "outputs": [
    {
     "data": {
      "text/plain": [
       "<AxesSubplot:title={'center':'Exchange Rates IDR to USD'}, xlabel='Date', ylabel='Rate (in Rp)'>"
      ]
     },
     "execution_count": 222,
     "metadata": {},
     "output_type": "execute_result"
    },
    {
     "data": {
      "image/png": "[encoded data removed]",
      "text/plain": [
       "<Figure size 432x288 with 1 Axes>"
      ]
     },
     "metadata": {
      "needs_background": "light"
     },
     "output_type": "display_data"
    }
   ],
   "source": [
    "exchange[['date','rate']].plot(\n",
    "    xlabel = \"Date\",\n",
    "    ylabel = \"Rate (in Rp)\",\n",
    "    title = \"Exchange Rates IDR to USD\")"
   ]
  },
  {
   "cell_type": "code",
   "execution_count": 229,
   "id": "pursuant-massage",
   "metadata": {},
   "outputs": [
    {
     "data": {
      "text/html": [
       "<div>\n",
       "<style scoped>\n",
       "    .dataframe tbody tr th:only-of-type {\n",
       "        vertical-align: middle;\n",
       "    }\n",
       "\n",
       "    .dataframe tbody tr th {\n",
       "        vertical-align: top;\n",
       "    }\n",
       "\n",
       "    .dataframe thead th {\n",
       "        text-align: right;\n",
       "    }\n",
       "</style>\n",
       "<table border=\"1\" class=\"dataframe\">\n",
       "  <thead>\n",
       "    <tr style=\"text-align: right;\">\n",
       "      <th></th>\n",
       "      <th>rate</th>\n",
       "    </tr>\n",
       "  </thead>\n",
       "  <tbody>\n",
       "    <tr>\n",
       "      <th>count</th>\n",
       "      <td>7.00</td>\n",
       "    </tr>\n",
       "    <tr>\n",
       "      <th>mean</th>\n",
       "      <td>14149.88</td>\n",
       "    </tr>\n",
       "    <tr>\n",
       "      <th>std</th>\n",
       "      <td>89.56</td>\n",
       "    </tr>\n",
       "    <tr>\n",
       "      <th>min</th>\n",
       "      <td>14066.79</td>\n",
       "    </tr>\n",
       "    <tr>\n",
       "      <th>25%</th>\n",
       "      <td>14087.84</td>\n",
       "    </tr>\n",
       "    <tr>\n",
       "      <th>50%</th>\n",
       "      <td>14118.07</td>\n",
       "    </tr>\n",
       "    <tr>\n",
       "      <th>75%</th>\n",
       "      <td>14194.17</td>\n",
       "    </tr>\n",
       "    <tr>\n",
       "      <th>max</th>\n",
       "      <td>14300.28</td>\n",
       "    </tr>\n",
       "  </tbody>\n",
       "</table>\n",
       "</div>"
      ],
      "text/plain": [
       "           rate\n",
       "count      7.00\n",
       "mean   14149.88\n",
       "std       89.56\n",
       "min    14066.79\n",
       "25%    14087.84\n",
       "50%    14118.07\n",
       "75%    14194.17\n",
       "max    14300.28"
      ]
     },
     "execution_count": 229,
     "metadata": {},
     "output_type": "execute_result"
    }
   ],
   "source": [
    "exchange.describe().round(2)"
   ]
  },
  {
   "cell_type": "markdown",
   "id": "future-mixer",
   "metadata": {},
   "source": [
    "Berdasarkan data kurs rupiah terhadap US Dollar selama sepekan (7 hari), dapat dilihat bahwa Rupiah melemah terhadap Dollar US. Walaupun di tengah pekan terdapat penguatan Rupiah. Rupiah berada di rata-rata 14.149 dengan nilai tertinggi 14.300 dan terendah di angka 14.100."
   ]
  },
  {
   "cell_type": "code",
   "execution_count": null,
   "id": "opening-brisbane",
   "metadata": {},
   "outputs": [],
   "source": []
  }
 ],
 "metadata": {
  "kernelspec": {
   "display_name": "capstonescrap",
   "language": "python",
   "name": "capstonescrap"
  },
  "language_info": {
   "codemirror_mode": {
    "name": "ipython",
    "version": 3
   },
   "file_extension": ".py",
   "mimetype": "text/x-python",
   "name": "python",
   "nbconvert_exporter": "python",
   "pygments_lexer": "ipython3",
   "version": "3.8.8"
  },
  "toc": {
   "base_numbering": 1,
   "nav_menu": {},
   "number_sections": true,
   "sideBar": true,
   "skip_h1_title": false,
   "title_cell": "Table of Contents",
   "title_sidebar": "Contents",
   "toc_cell": false,
   "toc_position": {},
   "toc_section_display": true,
   "toc_window_display": false
  }
 },
 "nbformat": 4,
 "nbformat_minor": 5
}
